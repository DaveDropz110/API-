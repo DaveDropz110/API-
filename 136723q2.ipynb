{
 "cells": [
  {
   "cell_type": "code",
   "execution_count": null,
   "id": "2c91f9b9-6f9e-4193-87ca-21c0cc365524",
   "metadata": {},
   "outputs": [
    {
     "name": "stdout",
     "output_type": "stream",
     "text": [
      "\n",
      "1. Add a new student\n",
      "2. Display all students\n",
      "3. Get average grade of a student\n",
      "4. Get class average for a subject\n",
      "5. Exit\n"
     ]
    },
    {
     "name": "stdin",
     "output_type": "stream",
     "text": [
      "Enter your choice:  David\n"
     ]
    },
    {
     "name": "stdout",
     "output_type": "stream",
     "text": [
      "Invalid choice. Please try again.\n",
      "\n",
      "1. Add a new student\n",
      "2. Display all students\n",
      "3. Get average grade of a student\n",
      "4. Get class average for a subject\n",
      "5. Exit\n"
     ]
    },
    {
     "name": "stdin",
     "output_type": "stream",
     "text": [
      "Enter your choice:  3\n",
      "Enter student's name:  David\n"
     ]
    },
    {
     "name": "stdout",
     "output_type": "stream",
     "text": [
      "Student not found\n",
      "\n",
      "1. Add a new student\n",
      "2. Display all students\n",
      "3. Get average grade of a student\n",
      "4. Get class average for a subject\n",
      "5. Exit\n"
     ]
    },
    {
     "name": "stdin",
     "output_type": "stream",
     "text": [
      "Enter your choice:  1\n",
      "Enter student's name:  David\n",
      "Enter subject (or 'done' to finish):  Math\n",
      "Enter grade:  77\n",
      "Enter subject (or 'done' to finish):  English\n",
      "Enter grade:  78\n",
      "Enter subject (or 'done' to finish):  done\n"
     ]
    },
    {
     "name": "stdout",
     "output_type": "stream",
     "text": [
      "\n",
      "1. Add a new student\n",
      "2. Display all students\n",
      "3. Get average grade of a student\n",
      "4. Get class average for a subject\n",
      "5. Exit\n"
     ]
    },
    {
     "name": "stdin",
     "output_type": "stream",
     "text": [
      "Enter your choice:  3\n",
      "Enter student's name:  David\n"
     ]
    },
    {
     "name": "stdout",
     "output_type": "stream",
     "text": [
      "Average grade for David: 77.5\n",
      "\n",
      "1. Add a new student\n",
      "2. Display all students\n",
      "3. Get average grade of a student\n",
      "4. Get class average for a subject\n",
      "5. Exit\n"
     ]
    }
   ],
   "source": [
    "# School Class Management System\n",
    "\n",
    "class Student:\n",
    "    def __init__(self, name):\n",
    "        self.name = name\n",
    "        self.grades = {}\n",
    "\n",
    "    def add_grade(self, subject, grade):\n",
    "        self.grades[subject] = grade\n",
    "\n",
    "    def get_average_grade(self):\n",
    "        return sum(self.grades.values()) / len(self.grades)\n",
    "\n",
    "class Classroom:\n",
    "    def __init__(self):\n",
    "        self.students = []\n",
    "\n",
    "    def add_student(self, student):\n",
    "        self.students.append(student)\n",
    "\n",
    "    def display_students(self):\n",
    "        for student in self.students:\n",
    "            print(f\"Name: {student.name}, Grades: {student.grades}\")\n",
    "\n",
    "    def get_student_average(self, name):\n",
    "        for student in self.students:\n",
    "            if student.name.lower() == name.lower():\n",
    "                return student.get_average_grade()\n",
    "        return None\n",
    "\n",
    "    def get_class_average(self, subject):\n",
    "        total, count = 0, 0\n",
    "        for student in self.students:\n",
    "            if subject in student.grades:\n",
    "                total += student.grades[subject]\n",
    "                count += 1\n",
    "        return total / count if count else 0\n",
    "\n",
    "def main():\n",
    "    classroom = Classroom()\n",
    "\n",
    "    while True:\n",
    "        print(\"\\n1. Add a new student\")\n",
    "        print(\"2. Display all students\")\n",
    "        print(\"3. Get average grade of a student\")\n",
    "        print(\"4. Get class average for a subject\")\n",
    "        print(\"5. Exit\")\n",
    "        choice = input(\"Enter your choice: \")\n",
    "\n",
    "        if choice == '1':\n",
    "            name = input(\"Enter student's name: \")\n",
    "            student = Student(name)\n",
    "            while True:\n",
    "                subject = input(\"Enter subject (or 'done' to finish): \")\n",
    "                if subject.lower() == 'done':\n",
    "                    break\n",
    "                grade = float(input(\"Enter grade: \"))\n",
    "                student.add_grade(subject, grade)\n",
    "            classroom.add_student(student)\n",
    "        elif choice == '2':\n",
    "            classroom.display_students()\n",
    "        elif choice == '3':\n",
    "            name = input(\"Enter student's name: \")\n",
    "            average = classroom.get_student_average(name)\n",
    "            if average is not None:\n",
    "                print(f\"Average grade for {name}: {average}\")\n",
    "            else:\n",
    "                print(\"Student not found\")\n",
    "        elif choice == '4':\n",
    "            subject = input(\"Enter subject: \")\n",
    "            print(f\"Class average for {subject}: {classroom.get_class_average(subject)}\")\n",
    "        elif choice == '5':\n",
    "            break\n",
    "        else:\n",
    "            print(\"Invalid choice. Please try again.\")\n",
    "\n",
    "if __name__ == \"__main__\":\n",
    "    main()\n"
   ]
  },
  {
   "cell_type": "code",
   "execution_count": null,
   "id": "cb284d7c-3a38-4056-b565-5bbbc53d3af0",
   "metadata": {},
   "outputs": [],
   "source": []
  }
 ],
 "metadata": {
  "kernelspec": {
   "display_name": "Python 3 (ipykernel)",
   "language": "python",
   "name": "python3"
  },
  "language_info": {
   "codemirror_mode": {
    "name": "ipython",
    "version": 3
   },
   "file_extension": ".py",
   "mimetype": "text/x-python",
   "name": "python",
   "nbconvert_exporter": "python",
   "pygments_lexer": "ipython3",
   "version": "3.12.4"
  }
 },
 "nbformat": 4,
 "nbformat_minor": 5
}
