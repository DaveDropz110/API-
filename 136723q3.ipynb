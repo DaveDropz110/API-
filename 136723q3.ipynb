{
 "cells": [
  {
   "cell_type": "code",
   "execution_count": null,
   "id": "df2aca72-877e-4163-9853-9deb0cc5996a",
   "metadata": {},
   "outputs": [
    {
     "name": "stdout",
     "output_type": "stream",
     "text": [
      "\n",
      "1. Add a new vehicle\n",
      "2. Display all vehicles\n",
      "3. Search for a vehicle by registration number\n",
      "4. Exit\n"
     ]
    },
    {
     "name": "stdin",
     "output_type": "stream",
     "text": [
      "Enter your choice:  1\n",
      "Enter type of vehicle (car/truck/motorcycle):  car\n",
      "Enter registration number:  2345\n",
      "Enter make:  2020\n",
      "Enter model:  suv\n",
      "Enter number of seats:  5\n"
     ]
    },
    {
     "name": "stdout",
     "output_type": "stream",
     "text": [
      "\n",
      "1. Add a new vehicle\n",
      "2. Display all vehicles\n",
      "3. Search for a vehicle by registration number\n",
      "4. Exit\n"
     ]
    },
    {
     "name": "stdin",
     "output_type": "stream",
     "text": [
      "Enter your choice:  3\n",
      "Enter registration number:  2345\n"
     ]
    },
    {
     "name": "stdout",
     "output_type": "stream",
     "text": [
      "{'registration_number': '2345', 'make': '2020', 'model': 'suv', 'number_of_seats': 5}\n",
      "\n",
      "1. Add a new vehicle\n",
      "2. Display all vehicles\n",
      "3. Search for a vehicle by registration number\n",
      "4. Exit\n"
     ]
    },
    {
     "name": "stdin",
     "output_type": "stream",
     "text": [
      "Enter your choice:  2\n"
     ]
    },
    {
     "name": "stdout",
     "output_type": "stream",
     "text": [
      "{'registration_number': '2345', 'make': '2020', 'model': 'suv', 'number_of_seats': 5}\n",
      "\n",
      "1. Add a new vehicle\n",
      "2. Display all vehicles\n",
      "3. Search for a vehicle by registration number\n",
      "4. Exit\n"
     ]
    }
   ],
   "source": [
    "# Transport Fleet Management System\n",
    "\n",
    "class Vehicle:\n",
    "    def __init__(self, registration_number, make, model):\n",
    "        self.registration_number = registration_number\n",
    "        self.make = make\n",
    "        self.model = model\n",
    "\n",
    "class Car(Vehicle):\n",
    "    def __init__(self, registration_number, make, model, number_of_seats):\n",
    "        super().__init__(registration_number, make, model)\n",
    "        self.number_of_seats = number_of_seats\n",
    "\n",
    "class Truck(Vehicle):\n",
    "    def __init__(self, registration_number, make, model, cargo_capacity):\n",
    "        super().__init__(registration_number, make, model)\n",
    "        self.cargo_capacity = cargo_capacity\n",
    "\n",
    "class Motorcycle(Vehicle):\n",
    "    def __init__(self, registration_number, make, model, engine_capacity):\n",
    "        super().__init__(registration_number, make, model)\n",
    "        self.engine_capacity = engine_capacity\n",
    "\n",
    "class Fleet:\n",
    "    def __init__(self):\n",
    "        self.vehicles = []\n",
    "\n",
    "    def add_vehicle(self, vehicle):\n",
    "        self.vehicles.append(vehicle)\n",
    "\n",
    "    def display_vehicles(self):\n",
    "        for vehicle in self.vehicles:\n",
    "            print(vars(vehicle))\n",
    "\n",
    "    def search_vehicle(self, registration_number):\n",
    "        for vehicle in self.vehicles:\n",
    "            if vehicle.registration_number.lower() == registration_number.lower():\n",
    "                print(vars(vehicle))\n",
    "                return\n",
    "        print(\"Vehicle not found\")\n",
    "\n",
    "def main():\n",
    "    fleet = Fleet()\n",
    "\n",
    "    while True:\n",
    "        print(\"\\n1. Add a new vehicle\")\n",
    "        print(\"2. Display all vehicles\")\n",
    "        print(\"3. Search for a vehicle by registration number\")\n",
    "        print(\"4. Exit\")\n",
    "        choice = input(\"Enter your choice: \")\n",
    "\n",
    "        if choice == '1':\n",
    "            type_of_vehicle = input(\"Enter type of vehicle (car/truck/motorcycle): \").lower()\n",
    "            registration_number = input(\"Enter registration number: \")\n",
    "            make = input(\"Enter make: \")\n",
    "            model = input(\"Enter model: \")\n",
    "\n",
    "            if type_of_vehicle == 'car':\n",
    "                number_of_seats = int(input(\"Enter number of seats: \"))\n",
    "                fleet.add_vehicle(Car(registration_number, make, model, number_of_seats))\n",
    "            elif type_of_vehicle == 'truck':\n",
    "                cargo_capacity = float(input(\"Enter cargo capacity: \"))\n",
    "                fleet.add_vehicle(Truck(registration_number, make, model, cargo_capacity))\n",
    "            elif type_of_vehicle == 'motorcycle':\n",
    "                engine_capacity = float(input(\"Enter engine capacity: \"))\n",
    "                fleet.add_vehicle(Motorcycle(registration_number, make, model, engine_capacity))\n",
    "            else:\n",
    "                print(\"Invalid vehicle type\")\n",
    "\n",
    "        elif choice == '2':\n",
    "            fleet.display_vehicles()\n",
    "        elif choice == '3':\n",
    "            registration_number = input(\"Enter registration number: \")\n",
    "            fleet.search_vehicle(registration_number)\n",
    "        elif choice == '4':\n",
    "            break\n",
    "        else:\n",
    "            print(\"Invalid choice. Please try again.\")\n",
    "\n",
    "if __name__ == \"__main__\":\n",
    "    main()\n"
   ]
  },
  {
   "cell_type": "code",
   "execution_count": null,
   "id": "5b6977a1-6c35-493c-be9d-8cd7d4be364b",
   "metadata": {},
   "outputs": [],
   "source": []
  }
 ],
 "metadata": {
  "kernelspec": {
   "display_name": "Python 3 (ipykernel)",
   "language": "python",
   "name": "python3"
  },
  "language_info": {
   "codemirror_mode": {
    "name": "ipython",
    "version": 3
   },
   "file_extension": ".py",
   "mimetype": "text/x-python",
   "name": "python",
   "nbconvert_exporter": "python",
   "pygments_lexer": "ipython3",
   "version": "3.12.4"
  }
 },
 "nbformat": 4,
 "nbformat_minor": 5
}
