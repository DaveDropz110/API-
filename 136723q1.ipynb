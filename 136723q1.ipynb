{
 "cells": [
  {
   "cell_type": "code",
   "execution_count": 1,
   "id": "ab5d785e-45c4-4197-8d42-6ef5d71405b7",
   "metadata": {},
   "outputs": [
    {
     "name": "stdout",
     "output_type": "stream",
     "text": [
      "\n",
      "1. Add a new patient\n",
      "2. Display all patients\n",
      "3. Search for a patient by name\n",
      "4. Remove a patient by name\n",
      "5. Exit\n"
     ]
    },
    {
     "name": "stdin",
     "output_type": "stream",
     "text": [
      "Enter your choice:  1\n",
      "Enter patient's name:  David\n",
      "Enter patient's age:  12\n",
      "Enter patient's illness:  Cancer\n"
     ]
    },
    {
     "name": "stdout",
     "output_type": "stream",
     "text": [
      "\n",
      "1. Add a new patient\n",
      "2. Display all patients\n",
      "3. Search for a patient by name\n",
      "4. Remove a patient by name\n",
      "5. Exit\n"
     ]
    },
    {
     "name": "stdin",
     "output_type": "stream",
     "text": [
      "Enter your choice:  2\n"
     ]
    },
    {
     "name": "stdout",
     "output_type": "stream",
     "text": [
      "Name: David, Age: 12, Illness: Cancer\n",
      "\n",
      "1. Add a new patient\n",
      "2. Display all patients\n",
      "3. Search for a patient by name\n",
      "4. Remove a patient by name\n",
      "5. Exit\n"
     ]
    },
    {
     "name": "stdin",
     "output_type": "stream",
     "text": [
      "Enter your choice:  3\n",
      "Enter patient's name to search:  David\n"
     ]
    },
    {
     "name": "stdout",
     "output_type": "stream",
     "text": [
      "Found: Name: David, Age: 12, Illness: Cancer\n",
      "\n",
      "1. Add a new patient\n",
      "2. Display all patients\n",
      "3. Search for a patient by name\n",
      "4. Remove a patient by name\n",
      "5. Exit\n"
     ]
    },
    {
     "name": "stdin",
     "output_type": "stream",
     "text": [
      "Enter your choice:  5\n"
     ]
    }
   ],
   "source": [
    "# Hospital Patient Management System\n",
    "\n",
    "# Initialize the patient list\n",
    "patients = []\n",
    "\n",
    "def add_patient(name, age, illness):\n",
    "    patients.append({\"name\": name, \"age\": age, \"illness\": illness})\n",
    "\n",
    "def display_patients():\n",
    "    for patient in patients:\n",
    "        print(f\"Name: {patient['name']}, Age: {patient['age']}, Illness: {patient['illness']}\")\n",
    "\n",
    "def search_patient(name):\n",
    "    for patient in patients:\n",
    "        if patient['name'].lower() == name.lower():\n",
    "            print(f\"Found: Name: {patient['name']}, Age: {patient['age']}, Illness: {patient['illness']}\")\n",
    "            return\n",
    "    print(\"Patient not found\")\n",
    "\n",
    "def remove_patient(name):\n",
    "    global patients\n",
    "    patients = [patient for patient in patients if patient['name'].lower() != name.lower()]\n",
    "    print(f\"Patient {name} removed if existed\")\n",
    "\n",
    "def main():\n",
    "    while True:\n",
    "        print(\"\\n1. Add a new patient\")\n",
    "        print(\"2. Display all patients\")\n",
    "        print(\"3. Search for a patient by name\")\n",
    "        print(\"4. Remove a patient by name\")\n",
    "        print(\"5. Exit\")\n",
    "        choice = input(\"Enter your choice: \")\n",
    "\n",
    "        if choice == '1':\n",
    "            name = input(\"Enter patient's name: \")\n",
    "            age = input(\"Enter patient's age: \")\n",
    "            illness = input(\"Enter patient's illness: \")\n",
    "            add_patient(name, age, illness)\n",
    "        elif choice == '2':\n",
    "            display_patients()\n",
    "        elif choice == '3':\n",
    "            name = input(\"Enter patient's name to search: \")\n",
    "            search_patient(name)\n",
    "        elif choice == '4':\n",
    "            name = input(\"Enter patient's name to remove: \")\n",
    "            remove_patient(name)\n",
    "        elif choice == '5':\n",
    "            break\n",
    "        else:\n",
    "            print(\"Invalid choice. Please try again.\")\n",
    "\n",
    "if __name__ == \"__main__\":\n",
    "    main()\n"
   ]
  },
  {
   "cell_type": "code",
   "execution_count": null,
   "id": "d84ba74e-9388-42b8-adf1-efc61c1cc328",
   "metadata": {},
   "outputs": [],
   "source": []
  }
 ],
 "metadata": {
  "kernelspec": {
   "display_name": "Python 3 (ipykernel)",
   "language": "python",
   "name": "python3"
  },
  "language_info": {
   "codemirror_mode": {
    "name": "ipython",
    "version": 3
   },
   "file_extension": ".py",
   "mimetype": "text/x-python",
   "name": "python",
   "nbconvert_exporter": "python",
   "pygments_lexer": "ipython3",
   "version": "3.12.4"
  }
 },
 "nbformat": 4,
 "nbformat_minor": 5
}
